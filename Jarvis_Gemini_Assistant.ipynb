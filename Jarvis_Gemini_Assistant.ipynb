{
  "nbformat": 4,
  "nbformat_minor": 0,
  "metadata": {
    "colab": {
      "provenance": [],
      "authorship_tag": "ABX9TyPQ32IAE9kOeEh6evkNR39F",
      "include_colab_link": true
    },
    "kernelspec": {
      "name": "python3",
      "display_name": "Python 3"
    },
    "language_info": {
      "name": "python"
    }
  },
  "cells": [
    {
      "cell_type": "markdown",
      "metadata": {
        "id": "view-in-github",
        "colab_type": "text"
      },
      "source": [
        "<a href=\"https://colab.research.google.com/github/edgarreis/Jarvis-Gemini-Assistant/blob/main/Jarvis_Gemini_Assistant.ipynb\" target=\"_parent\"><img src=\"https://colab.research.google.com/assets/colab-badge.svg\" alt=\"Open In Colab\"/></a>"
      ]
    },
    {
      "cell_type": "markdown",
      "source": [
        "## Jarvis: Um assistente de voz utilizando Google GenerativeAI"
      ],
      "metadata": {
        "id": "ydBFp5aP1YVt"
      }
    },
    {
      "cell_type": "markdown",
      "source": [
        "Projetos de Referência\n",
        "\n",
        "\n",
        "\n",
        "*   Gemini API Python quickstart\n",
        "https://github.com/google/generative-ai-docs/blob/main/site/en/tutorials/quickstart_colab.ipynb\n",
        "\n",
        "*   Upload an audio file with the File API\n",
        "https://github.com/google-gemini/cookbook/blob/main/quickstarts/Audio.ipynb\n",
        "*   Text to Speech\n",
        "https://github.com/shuvobasak4004/Text-to-Voice/blob/main/TexttoV.ipynb"
      ],
      "metadata": {
        "id": "vrKC5snI2T1z"
      }
    },
    {
      "cell_type": "markdown",
      "source": [
        "## Instalações do SDK e demais Libs"
      ],
      "metadata": {
        "id": "DdXk5rfQbyyS"
      }
    },
    {
      "cell_type": "code",
      "source": [
        "!pip install -q -U google-generativeai"
      ],
      "metadata": {
        "id": "TUz9mxFuaUeT"
      },
      "execution_count": 1,
      "outputs": []
    },
    {
      "cell_type": "code",
      "source": [
        "!pip install gtts"
      ],
      "metadata": {
        "colab": {
          "base_uri": "https://localhost:8080/"
        },
        "id": "TiXPaQZ4eikB",
        "outputId": "35a3b4d1-6093-47b2-b553-22e3a644e4b6"
      },
      "execution_count": 2,
      "outputs": [
        {
          "output_type": "stream",
          "name": "stdout",
          "text": [
            "Requirement already satisfied: gtts in /usr/local/lib/python3.10/dist-packages (2.5.1)\n",
            "Requirement already satisfied: requests<3,>=2.27 in /usr/local/lib/python3.10/dist-packages (from gtts) (2.31.0)\n",
            "Requirement already satisfied: click<8.2,>=7.1 in /usr/local/lib/python3.10/dist-packages (from gtts) (8.1.7)\n",
            "Requirement already satisfied: charset-normalizer<4,>=2 in /usr/local/lib/python3.10/dist-packages (from requests<3,>=2.27->gtts) (3.3.2)\n",
            "Requirement already satisfied: idna<4,>=2.5 in /usr/local/lib/python3.10/dist-packages (from requests<3,>=2.27->gtts) (3.7)\n",
            "Requirement already satisfied: urllib3<3,>=1.21.1 in /usr/local/lib/python3.10/dist-packages (from requests<3,>=2.27->gtts) (2.0.7)\n",
            "Requirement already satisfied: certifi>=2017.4.17 in /usr/local/lib/python3.10/dist-packages (from requests<3,>=2.27->gtts) (2024.2.2)\n"
          ]
        }
      ]
    },
    {
      "cell_type": "code",
      "source": [
        "!pip install playsound"
      ],
      "metadata": {
        "colab": {
          "base_uri": "https://localhost:8080/"
        },
        "id": "FSZ_-jIzT-wh",
        "outputId": "500b5d6c-a91d-4d12-a964-e606e806d977"
      },
      "execution_count": 3,
      "outputs": [
        {
          "output_type": "stream",
          "name": "stdout",
          "text": [
            "Requirement already satisfied: playsound in /usr/local/lib/python3.10/dist-packages (1.3.0)\n"
          ]
        }
      ]
    },
    {
      "cell_type": "markdown",
      "source": [
        "## Bibliotecas"
      ],
      "metadata": {
        "id": "Bw-1gjXKafQr"
      }
    },
    {
      "cell_type": "code",
      "source": [
        "#IO\n",
        "from IPython.display import HTML, Javascript, clear_output, Audio, display\n",
        "from google.colab.output import eval_js\n",
        "#Audio\n",
        "from gtts import gTTS\n",
        "from google.colab import output\n",
        "from playsound import playsound\n",
        "#config\n",
        "import base64\n",
        "import time"
      ],
      "metadata": {
        "id": "QTKM6PtNaUYj",
        "colab": {
          "base_uri": "https://localhost:8080/"
        },
        "outputId": "f76a82cb-8a9f-4e35-d9d5-ddd6604b58ed"
      },
      "execution_count": 4,
      "outputs": [
        {
          "output_type": "stream",
          "name": "stderr",
          "text": [
            "WARNING:playsound:playsound is relying on another python subprocess. Please use `pip install pygobject` if you want playsound to run more efficiently.\n"
          ]
        }
      ]
    },
    {
      "cell_type": "markdown",
      "source": [
        "## Conversão de Audio para .WAV (Javascript)"
      ],
      "metadata": {
        "id": "bmoTtLLPai15"
      }
    },
    {
      "cell_type": "markdown",
      "source": [
        "Função para Gravar o Audio"
      ],
      "metadata": {
        "id": "Ang2BbDbawyT"
      }
    },
    {
      "cell_type": "code",
      "execution_count": 5,
      "metadata": {
        "id": "q0vg_1mLYdjU"
      },
      "outputs": [],
      "source": [
        "# Código Python para exibir botão de gravação e salvar áudio\n",
        "\n",
        "js = Javascript('''\n",
        "  // Código JavaScript para gravação de áudio\n",
        "\n",
        "  async function recordAudio() {\n",
        "    const div = document.createElement('div');\n",
        "    const strtButton = document.createElement('button');\n",
        "    const stopButton = document.createElement('button');\n",
        "\n",
        "    // Estilos para os botões\n",
        "    // Botão maior para pessoas com baixa visão\n",
        "    const buttonStyle = 'font-size: 40px; padding: 20px;';  // Define o tamanho da fonte e o espaçamento interno\n",
        "\n",
        "    strtButton.textContent = 'Clique para Gravar';\n",
        "    strtButton.style = buttonStyle;  // Aplica os estilos ao botão\n",
        "    stopButton.textContent = 'Enviar';\n",
        "    stopButton.style = buttonStyle;  // Aplica os estilos ao botão\n",
        "\n",
        "    document.body.appendChild(div);\n",
        "    div.appendChild(strtButton);\n",
        "\n",
        "    const stream = await navigator.mediaDevices.getUserMedia({ audio: true });\n",
        "    let recorder = new MediaRecorder(stream);\n",
        "    let audio = new Audio();\n",
        "\n",
        "    audio.style.display = 'block';\n",
        "    audio.controls = true;\n",
        "    audio.muted = true;\n",
        "\n",
        "    await new Promise((resolve) => strtButton.onclick = resolve);\n",
        "    strtButton.replaceWith(stopButton);\n",
        "    recorder.start();\n",
        "\n",
        "    await new Promise((resolve) => stopButton.onclick = resolve);\n",
        "    recorder.stop();\n",
        "\n",
        "    let recData = await new Promise((resolve) => recorder.ondataavailable = resolve);\n",
        "    let arrBuff = await recData.data.arrayBuffer();\n",
        "    let audioTracks = stream.getAudioTracks()[0];\n",
        "    div.remove();\n",
        "\n",
        "    let binaryString = '';\n",
        "    let bytes = new Uint8Array(arrBuff);\n",
        "    bytes.forEach((byte) => { binaryString += String.fromCharCode(byte); });\n",
        "\n",
        "    const url = URL.createObjectURL(recData.data);\n",
        "    const player = document.createElement('audio');\n",
        "    player.controls = false;\n",
        "    player.src = url;\n",
        "    document.body.appendChild(player);\n",
        "\n",
        "    // Remove o elemento de áudio após a gravação\n",
        "    player.addEventListener('ended', () => {\n",
        "      player.remove();\n",
        "    });\n",
        "\n",
        "    return btoa(binaryString);\n",
        "  }\n",
        "''')\n"
      ]
    },
    {
      "cell_type": "markdown",
      "source": [
        "##Conversão de Texto para Audio"
      ],
      "metadata": {
        "id": "dv7ngIfxe2ET"
      }
    },
    {
      "cell_type": "markdown",
      "source": [
        "Função de Conversão de Texto para Fala"
      ],
      "metadata": {
        "id": "49rb-ukjcx0E"
      }
    },
    {
      "cell_type": "code",
      "source": [
        "\n",
        "def text_to_speech(text):\n",
        "    #text = input(\"Enter the text to convert to speech (Portugues): \")\n",
        "    language = 'pt'  # Set the language code to 'br' for Portugues\n",
        "\n",
        "    tts = gTTS(text=text, lang=language)\n",
        "    tts.save('output.mp3')\n",
        "\n",
        "    audio = Audio('output.mp3', autoplay=True)\n",
        "    output.clear()\n",
        "    display(audio)\n"
      ],
      "metadata": {
        "id": "umn-IRpHfAyi"
      },
      "execution_count": 6,
      "outputs": []
    },
    {
      "cell_type": "markdown",
      "source": [
        "##Gemini API Python"
      ],
      "metadata": {
        "id": "N1X-nmoDcE1k"
      }
    },
    {
      "cell_type": "markdown",
      "source": [
        "##Set up your API key"
      ],
      "metadata": {
        "id": "bNyPh_eWb_O7"
      }
    },
    {
      "cell_type": "code",
      "source": [
        "# Import the Python SDK\n",
        "import google.generativeai as genai\n",
        "# Used to securely store your API key\n",
        "from google.colab import userdata\n",
        "\n",
        "GOOGLE_API_KEY=userdata.get('API_KEY')\n",
        "genai.configure(api_key=GOOGLE_API_KEY)"
      ],
      "metadata": {
        "id": "jsR_QGFZabb6"
      },
      "execution_count": 7,
      "outputs": []
    },
    {
      "cell_type": "markdown",
      "source": [
        "##Initialize the Generative Model"
      ],
      "metadata": {
        "id": "T48dyf_gcU9s"
      }
    },
    {
      "cell_type": "markdown",
      "source": [
        "Configuração do modelo"
      ],
      "metadata": {
        "id": "3UWzK2Toc8tb"
      }
    },
    {
      "cell_type": "code",
      "source": [
        "# Configuraçãoes Gerais\n",
        "generation_config = {\n",
        "    \"candidate_count\": 1,\n",
        "    \"temperature\":0.5,\n",
        "}\n",
        "\n",
        "# Configurações de Segurança\n",
        "safety_settings = {\n",
        "    \"HARASSMENT\": \"BLOCK_MEDIUM_AND_ABOVE\",\n",
        "    \"HATE\": \"BLOCK_MEDIUM_AND_ABOVE\",\n",
        "    \"SEXUAL\": \"BLOCK_MEDIUM_AND_ABOVE\",\n",
        "    \"DANGEROUS\": \"BLOCK_MEDIUM_AND_ABOVE\"\n",
        "}"
      ],
      "metadata": {
        "id": "an8gM3W4cYKM"
      },
      "execution_count": 8,
      "outputs": []
    },
    {
      "cell_type": "markdown",
      "source": [
        "Inicializando o Modelo Gemini"
      ],
      "metadata": {
        "id": "8GlKR94odBRE"
      }
    },
    {
      "cell_type": "code",
      "source": [
        "model = genai.GenerativeModel(\n",
        "    model_name = \"gemini-1.5-pro-latest\",\n",
        "    generation_config = generation_config,\n",
        "    safety_settings = safety_settings,\n",
        "    system_instruction=\"Considere que você esta falando comm pessoas com deficiência visua, retorne respostas curtas e objetivas\"\n",
        ")"
      ],
      "metadata": {
        "id": "UsZReOfodCjE"
      },
      "execution_count": 9,
      "outputs": []
    },
    {
      "cell_type": "markdown",
      "source": [
        "Inicializa um Novo Chat"
      ],
      "metadata": {
        "id": "qKPJmD2maujg"
      }
    },
    {
      "cell_type": "code",
      "source": [
        "chat = model.start_chat(history=[])"
      ],
      "metadata": {
        "id": "SdD_XB5xaOye"
      },
      "execution_count": 10,
      "outputs": []
    },
    {
      "cell_type": "markdown",
      "source": [
        "++++++++++++++++++++++++++++++++++++++++++++++++++++++++++++++++++++++++++++++++"
      ],
      "metadata": {
        "id": "yfb5qHt_iJW-"
      }
    },
    {
      "cell_type": "markdown",
      "source": [
        "##Upload do arquivo de Audio para a API"
      ],
      "metadata": {
        "id": "3r22Wg-zf-fF"
      }
    },
    {
      "cell_type": "markdown",
      "source": [
        "Gravação do Audio"
      ],
      "metadata": {
        "id": "7fVCXwpzhdQ-"
      }
    },
    {
      "cell_type": "code",
      "source": [
        "\n",
        "def gravacao():\n",
        "  # Cria Botão de Gravação\n",
        "  display(js)\n",
        "\n",
        "  # Grava\n",
        "  output_recorded = eval_js('recordAudio()')\n",
        "\n",
        "  # Salva\n",
        "  with open('audio.wav', 'wb') as file:\n",
        "    binary = base64.b64decode(output_recorded)\n",
        "    file.write(binary)\n",
        "\n",
        "  # Mostra\n",
        "  #print('Recording saved to:', file.name)\n"
      ],
      "metadata": {
        "id": "IuM7qGztabpE"
      },
      "execution_count": 11,
      "outputs": []
    },
    {
      "cell_type": "markdown",
      "source": [
        "Upload do Audio no Gemini"
      ],
      "metadata": {
        "id": "pg5CswM5iO5F"
      }
    },
    {
      "cell_type": "code",
      "source": [
        "# audio_pergunta = genai.upload_file(path='/content/audio.wav')"
      ],
      "metadata": {
        "id": "BAgst4CD3RLS"
      },
      "execution_count": 12,
      "outputs": []
    },
    {
      "cell_type": "markdown",
      "source": [
        "##Utiliza o arquino no prompt"
      ],
      "metadata": {
        "id": "G1Z80P4rgRBl"
      }
    },
    {
      "cell_type": "code",
      "source": [
        "def audio_prompt():\n",
        "  # Upload do Audio no Gemini\n",
        "  audio_pergunta = genai.upload_file(path='/content/audio.wav')\n",
        "  # Montando o prompt\n",
        "  response = chat.send_message(audio_pergunta)\n",
        "  '''\n",
        "  # Montando o prompt\n",
        "  prompt = \"Responda de forma objetiva em uma linha: \"\n",
        "  model = genai.GenerativeModel('models/gemini-1.5-pro-latest')\n",
        "  response = model.generate_content([prompt, audio_pergunta])\n",
        "  '''\n",
        "  # Convertendo para texto\n",
        "  resposta = str(response.text)\n",
        "  return resposta"
      ],
      "metadata": {
        "id": "Go4E7daSgd5G"
      },
      "execution_count": 13,
      "outputs": []
    },
    {
      "cell_type": "markdown",
      "source": [
        "##LOOP PARA CONVERSA COM O CHAT"
      ],
      "metadata": {
        "id": "i7hgPnPxokJm"
      }
    },
    {
      "cell_type": "code",
      "source": [
        "resposta_jarvis = ''\n",
        "\n",
        "while resposta_jarvis != 'fim':\n",
        "  #clear_output(wait=True)\n",
        "  # Gravação do Audio\n",
        "  gravacao()\n",
        "  # Envio do Audio para o Gemini e sua resposta em Texto\n",
        "  resposta_jarvis = audio_prompt()\n",
        "  # Fala do Texto via Google Text-to-Speech\n",
        "  text_to_speech(resposta_jarvis)\n"
      ],
      "metadata": {
        "id": "Kpk0bvqNsTbs"
      },
      "execution_count": null,
      "outputs": []
    }
  ]
}